{
 "cells": [
  {
   "cell_type": "code",
   "execution_count": 0,
   "metadata": {
    "application/vnd.databricks.v1+cell": {
     "cellMetadata": {
      "byteLimit": 2048000,
      "implicitDf": true,
      "rowLimit": 10000
     },
     "inputWidgets": {},
     "nuid": "464f5301-8599-4ddf-846a-d4b0725e7e63",
     "showTitle": false,
     "tableResultSettingsMap": {},
     "title": ""
    }
   },
   "outputs": [],
   "source": [
    "CATALOG = \"\"\n",
    "SCHEMA = \"\""
   ]
  },
  {
   "cell_type": "code",
   "execution_count": null,
   "metadata": {},
   "outputs": [],
   "source": [
    "spark.sql(f\"CREATE CATALOG IF NOT EXISTS {CATALOG};\")\n",
    "spark.sql(f\"USE CATALOG {CATALOG};\")\n",
    "spark.sql(f\"CREATE SCHEMA IF NOT EXISTS {SCHEMA};\")\n",
    "spark.sql(f\"USE SCHEMA {SCHEMA};\")"
   ]
  },
  {
   "cell_type": "code",
   "execution_count": 0,
   "metadata": {
    "application/vnd.databricks.v1+cell": {
     "cellMetadata": {
      "byteLimit": 2048000,
      "rowLimit": 10000
     },
     "inputWidgets": {},
     "nuid": "ea6e882d-19f7-449f-bb52-f8ee296d6ed2",
     "showTitle": false,
     "tableResultSettingsMap": {},
     "title": ""
    }
   },
   "outputs": [],
   "source": [
    "import pandas as pd\n",
    "\n",
    "customers = pd.read_csv(\"https://github.com/marianreuss/fsi-genie/raw/refs/heads/main/customers_sampled.csv\")\n",
    "customers = spark.createDataFrame(customers)\n",
    "customers.write.mode(\"overwrite\").saveAsTable(\"customers\")"
   ]
  },
  {
   "cell_type": "code",
   "execution_count": 0,
   "metadata": {
    "application/vnd.databricks.v1+cell": {
     "cellMetadata": {
      "byteLimit": 2048000,
      "rowLimit": 10000
     },
     "inputWidgets": {},
     "nuid": "45d002bf-23ab-4d22-a4d6-65b768a1fc08",
     "showTitle": false,
     "tableResultSettingsMap": {},
     "title": ""
    }
   },
   "outputs": [],
   "source": [
    "import pandas as pd\n",
    "\n",
    "esg = pd.read_csv(\"https://github.com/marianreuss/fsi-genie/raw/refs/heads/main/esg_sampled.csv\")\n",
    "esg = spark.createDataFrame(esg)\n",
    "esg.write.mode(\"overwrite\").saveAsTable(\"esg\")"
   ]
  },
  {
   "cell_type": "code",
   "execution_count": null,
   "metadata": {},
   "outputs": [],
   "source": [
    "spark.sql(f\"\"\"\n",
    "CREATE OR REPLACE FUNCTION cluster_byindustry(industry STRING)\n",
    "RETURNS TABLE\n",
    "LANGUAGE SQL\n",
    "COMMENT 'returns companies with clustered environment grade'\n",
    "RETURN SELECT\n",
    "  `esg`.`ticker`,\n",
    "  `esg`.`name`,\n",
    "  `esg`.`currency`,\n",
    "  `esg`.`exchange`,\n",
    "  `esg`.`industry`,\n",
    "  `esg`.`environment_grade`,\n",
    "  `esg`.`environment_level`,\n",
    "  `esg`.`social_grade`,\n",
    "  `esg`.`social_level`,\n",
    "  `esg`.`governance_grade`,\n",
    "  `esg`.`governance_level`,\n",
    "  `esg`.`environment_score`,\n",
    "  `esg`.`social_score`,\n",
    "  `esg`.`governance_score`,\n",
    "  `esg`.`total_score`,\n",
    "  `esg`.`total_grade`,\n",
    "  `esg`.`total_level`,\n",
    "  `esg`.`cik`,\n",
    "  `customers`.`point_of_contact`,\n",
    "  `customers`.`telephone_number`,\n",
    "  `customers`.`email`,\n",
    "  CASE\n",
    "    WHEN `esg`.`environment_grade` = 'AA' THEN 0\n",
    "    WHEN `esg`.`environment_grade` = 'A' THEN 1\n",
    "    WHEN `esg`.`environment_grade` = 'BBB' THEN 2\n",
    "    WHEN `esg`.`environment_grade` = 'BB' THEN 3\n",
    "    WHEN `esg`.`environment_grade` = 'B' THEN 4\n",
    "    ELSE 5\n",
    "  END AS `cluster`\n",
    "FROM\n",
    "  `{CATALOG}`.`{SCHEMA}`.`esg`\n",
    "  LEFT JOIN `{CATALOG}`.`{SCHEMA}`.`customers` ON `esg`.`ticker` = `customers`.`ticker`\n",
    "WHERE LOWER(`esg`.`industry`) = LOWER(cluster_byindustry.industry)\"\"\")"
   ]
  },
  {
   "cell_type": "code",
   "execution_count": null,
   "metadata": {},
   "outputs": [],
   "source": [
    "\n",
    "import requests\n",
    "\n",
    "json_str = requests.get(\"https://github.com/marianreuss/fsi-genie/raw/refs/heads/main/dashboard.json\").text\n",
    "\n",
    "\n",
    "json_str = json_str.replace(\"placeholder_esg_table\", f\"{CATALOG}.{SCHEMA}.esg\")\n",
    "json_str = json_str.replace(\"placeholder_customer_table\", f\"{CATALOG}.{SCHEMA}.customers\")\n",
    "json_bytes = bytes(json_str.encode(\"utf-8\"))"
   ]
  },
  {
   "cell_type": "code",
   "execution_count": null,
   "metadata": {},
   "outputs": [],
   "source": [
    "from databricks.sdk import WorkspaceClient\n",
    "from databricks.sdk.service.workspace import ImportFormat\n",
    "\n",
    "client = WorkspaceClient()\n",
    "\n",
    "\n",
    "workspace_file_path = f\"/Workspace{dbutils.notebook.entry_point.getDbutils().notebook().getContext().notebookPath().get()}\"\n",
    "workspace_file_path = \"/\".join(workspace_file_path.split(\"/\")[:-1])\n",
    "\n",
    "\n",
    "client.workspace.upload(\n",
    "    path=workspace_file_path + \"/fsi-genie-dashboard.lvdash.json\",\n",
    "    content=json_bytes,\n",
    "    format=ImportFormat.AUTO,\n",
    "    overwrite=False,\n",
    ")"
   ]
  }
 ],
 "metadata": {
  "application/vnd.databricks.v1+notebook": {
   "computePreferences": null,
   "dashboards": [],
   "environmentMetadata": {
    "base_environment": "",
    "environment_version": "2"
   },
   "language": "python",
   "notebookMetadata": {
    "mostRecentlyExecutedCommandWithImplicitDF": {
     "commandId": 3987948637762771,
     "dataframes": [
      "_sqldf"
     ]
    },
    "pythonIndentUnit": 2
   },
   "notebookName": "fsi-genie-setup",
   "widgets": {}
  },
  "kernelspec": {
   "display_name": "base",
   "language": "python",
   "name": "python3"
  },
  "language_info": {
   "codemirror_mode": {
    "name": "ipython",
    "version": 3
   },
   "file_extension": ".py",
   "mimetype": "text/x-python",
   "name": "python",
   "nbconvert_exporter": "python",
   "pygments_lexer": "ipython3",
   "version": "3.12.2"
  }
 },
 "nbformat": 4,
 "nbformat_minor": 0
}
